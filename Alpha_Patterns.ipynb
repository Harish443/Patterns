{
  "nbformat": 4,
  "nbformat_minor": 0,
  "metadata": {
    "colab": {
      "provenance": [],
      "authorship_tag": "ABX9TyOByqRM1+zXwo7rYQj+0c+G",
      "include_colab_link": true
    },
    "kernelspec": {
      "name": "python3",
      "display_name": "Python 3"
    },
    "language_info": {
      "name": "python"
    }
  },
  "cells": [
    {
      "cell_type": "markdown",
      "metadata": {
        "id": "view-in-github",
        "colab_type": "text"
      },
      "source": [
        "<a href=\"https://colab.research.google.com/github/Harish443/Patterns/blob/main/Alpha_Patterns.ipynb\" target=\"_parent\"><img src=\"https://colab.research.google.com/assets/colab-badge.svg\" alt=\"Open In Colab\"/></a>"
      ]
    },
    {
      "cell_type": "code",
      "execution_count": null,
      "metadata": {
        "colab": {
          "base_uri": "https://localhost:8080/"
        },
        "id": "8KVunzA_UMnQ",
        "outputId": "5b64123c-c5fa-4b2f-eea1-1fd5ef049b33"
      },
      "outputs": [
        {
          "output_type": "stream",
          "name": "stdout",
          "text": [
            "9\n",
            "  * * * *   \n",
            "*         * \n",
            "*         * \n",
            "*         * \n",
            "* * * * * * \n",
            "*         * \n",
            "*         * \n",
            "*         * \n",
            "*         * \n"
          ]
        }
      ],
      "source": [
        "x=int(input())\n",
        "for i in range(x):\n",
        "    for j in range(x-3):\n",
        "        if  (i==0 and j==0) or (j==x-3-1 and i==0):\n",
        "            print(\" \",end=\" \")\n",
        "        elif i==0 or j==0 or i==x//2 or j==x-3-1:\n",
        "            print(\"*\",end=\" \")\n",
        "        else:\n",
        "            print(\" \",end=\" \")\n",
        "    print()"
      ]
    },
    {
      "cell_type": "code",
      "source": [
        "row=int(input())\n",
        "for i in range(row):\n",
        "  for j in range(row-2):\n",
        "    if j==0 or j==row-2-1 or i==0 or i==(row-1) or i==row//2:\n",
        "      if(i==0 or i==row//2 or i==row-1) and j==row-2-1:\n",
        "        print(\" \",end=\" \")\n",
        "      else:\n",
        "        print(\"*\",end=\" \")\n",
        "    else:\n",
        "      print(\" \",end=\" \")\n",
        "  print()"
      ],
      "metadata": {
        "colab": {
          "base_uri": "https://localhost:8080/"
        },
        "id": "IhPnfr54VCZF",
        "outputId": "64601859-69e5-462f-d84f-999f1aefcfb9"
      },
      "execution_count": null,
      "outputs": [
        {
          "output_type": "stream",
          "name": "stdout",
          "text": [
            "9\n",
            "* * * * * *   \n",
            "*           * \n",
            "*           * \n",
            "*           * \n",
            "* * * * * *   \n",
            "*           * \n",
            "*           * \n",
            "*           * \n",
            "* * * * * *   \n"
          ]
        }
      ]
    },
    {
      "cell_type": "code",
      "source": [
        "x=int(input())\n",
        "for i in range(x):\n",
        "  for j in range(x-3):\n",
        "    if j==0 or i==0 or i==(x-1):\n",
        "      if(i==0 and j==0) or (i==x-1 and j==0):\n",
        "        print(\" \",end=\" \")\n",
        "      else:\n",
        "        print(\"*\",end=\" \")\n",
        "    else:\n",
        "      print(\" \",end=\" \")\n",
        "  print()"
      ],
      "metadata": {
        "colab": {
          "base_uri": "https://localhost:8080/"
        },
        "id": "JYVJ-vNiVhNt",
        "outputId": "dfa539c6-e3c5-4314-b782-bb210bcb9070"
      },
      "execution_count": null,
      "outputs": [
        {
          "output_type": "stream",
          "name": "stdout",
          "text": [
            "9\n",
            "  * * * * * \n",
            "*           \n",
            "*           \n",
            "*           \n",
            "*           \n",
            "*           \n",
            "*           \n",
            "*           \n",
            "  * * * * * \n"
          ]
        }
      ]
    },
    {
      "cell_type": "code",
      "source": [
        "x=int(input())\n",
        "for i in range(x):\n",
        "  for j in range(x-3):\n",
        "    if j==0 or i==0 or i==(x-1) or j==(x-4):\n",
        "      if(i==0 and j==x-4) or (i==x-1 and j==x-4):\n",
        "        print(\" \",end=\" \")\n",
        "      else:\n",
        "        print(\"*\",end=\" \")\n",
        "    else:\n",
        "      print(\" \",end=\" \")\n",
        "  print()"
      ],
      "metadata": {
        "colab": {
          "base_uri": "https://localhost:8080/"
        },
        "id": "9Vb9fhb8aNKz",
        "outputId": "7db4599b-84f9-4cbd-a9c5-cb99c3b9336f"
      },
      "execution_count": null,
      "outputs": [
        {
          "output_type": "stream",
          "name": "stdout",
          "text": [
            "9\n",
            "* * * * *   \n",
            "*         * \n",
            "*         * \n",
            "*         * \n",
            "*         * \n",
            "*         * \n",
            "*         * \n",
            "*         * \n",
            "* * * * *   \n"
          ]
        }
      ]
    },
    {
      "cell_type": "code",
      "source": [
        "x=int(input())\n",
        "for i in range(x):\n",
        "  for j in range(x-3):\n",
        "    if j==0 or i==0 or i==(x-1) or i==x//2:\n",
        "      print(\"*\",end=\" \")\n",
        "    else:\n",
        "      print(\" \",end=\" \")\n",
        "  print()"
      ],
      "metadata": {
        "colab": {
          "base_uri": "https://localhost:8080/"
        },
        "id": "Fx_rq89Eaayo",
        "outputId": "efb45f79-ffa4-4021-b66a-4b843123302f"
      },
      "execution_count": null,
      "outputs": [
        {
          "output_type": "stream",
          "name": "stdout",
          "text": [
            "9\n",
            "* * * * * * \n",
            "*           \n",
            "*           \n",
            "*           \n",
            "* * * * * * \n",
            "*           \n",
            "*           \n",
            "*           \n",
            "* * * * * * \n"
          ]
        }
      ]
    },
    {
      "cell_type": "code",
      "source": [
        "x=int(input())\n",
        "for i in range(x):\n",
        "  for j in range(x-3):\n",
        "    if j==0 or i==0 or i==x//2:\n",
        "      print(\"*\",end=\" \")\n",
        "    else:\n",
        "      print(\" \",end=\" \")\n",
        "  print()"
      ],
      "metadata": {
        "colab": {
          "base_uri": "https://localhost:8080/"
        },
        "id": "iT9pC4lnavak",
        "outputId": "9e8350b4-f036-4793-e784-4b2cbfe8444d"
      },
      "execution_count": null,
      "outputs": [
        {
          "output_type": "stream",
          "name": "stdout",
          "text": [
            "9\n",
            "* * * * * * \n",
            "*           \n",
            "*           \n",
            "*           \n",
            "* * * * * * \n",
            "*           \n",
            "*           \n",
            "*           \n",
            "*           \n"
          ]
        }
      ]
    },
    {
      "cell_type": "code",
      "source": [
        "x=int(input())\n",
        "for i in range(x):\n",
        "  for j in range(x-3):\n",
        "    if j==0 or i==0 or i==(x-1) or j==(x-4) or i==x//2:\n",
        "      if (i in [2,3] and j==x-4) or (i==x//2 and j in [1,2]):\n",
        "        print(\" \",end=\" \")\n",
        "      else:\n",
        "        print(\"*\",end=\" \")\n",
        "    else:\n",
        "      print(\" \",end=\" \")\n",
        "  print()"
      ],
      "metadata": {
        "colab": {
          "base_uri": "https://localhost:8080/"
        },
        "id": "GSYEajNXa7oq",
        "outputId": "5c33f1bb-8ef8-45f7-c292-c0417d7418a8"
      },
      "execution_count": null,
      "outputs": [
        {
          "output_type": "stream",
          "name": "stdout",
          "text": [
            "9\n",
            "* * * * * * \n",
            "*         * \n",
            "*           \n",
            "*           \n",
            "*     * * * \n",
            "*         * \n",
            "*         * \n",
            "*         * \n",
            "* * * * * * \n"
          ]
        }
      ]
    },
    {
      "cell_type": "code",
      "source": [
        "x=int(input())\n",
        "for i in range(x):\n",
        "  for j in range(x-3):\n",
        "    if j==0 or j==(x-4) or i==x//2:\n",
        "      print(\"*\",end=\" \")\n",
        "    else:\n",
        "      print(\" \",end=\" \")\n",
        "  print()"
      ],
      "metadata": {
        "colab": {
          "base_uri": "https://localhost:8080/"
        },
        "id": "iKVJM8fvdwg5",
        "outputId": "186c02a1-84e3-42e6-9b2b-2537a1b3dba8"
      },
      "execution_count": null,
      "outputs": [
        {
          "output_type": "stream",
          "name": "stdout",
          "text": [
            "9\n",
            "*         * \n",
            "*         * \n",
            "*         * \n",
            "*         * \n",
            "* * * * * * \n",
            "*         * \n",
            "*         * \n",
            "*         * \n",
            "*         * \n"
          ]
        }
      ]
    },
    {
      "cell_type": "code",
      "source": [
        "x=int(input())\n",
        "for i in range(x):\n",
        "  for j in range(x-2):\n",
        "    if i==0 or i==(x-1) or j==x//2-1:\n",
        "      print(\"*\",end=\" \")\n",
        "    else:\n",
        "      print(\" \",end=\" \")\n",
        "  print()"
      ],
      "metadata": {
        "colab": {
          "base_uri": "https://localhost:8080/"
        },
        "id": "yuOHs08VeBJm",
        "outputId": "dd5f26b6-728b-4fcc-cbf3-54ce523fcefe"
      },
      "execution_count": null,
      "outputs": [
        {
          "output_type": "stream",
          "name": "stdout",
          "text": [
            "9\n",
            "* * * * * * * \n",
            "      *       \n",
            "      *       \n",
            "      *       \n",
            "      *       \n",
            "      *       \n",
            "      *       \n",
            "      *       \n",
            "* * * * * * * \n"
          ]
        }
      ]
    },
    {
      "cell_type": "code",
      "source": [
        "x=int(input())\n",
        "for i in range(x):\n",
        "  for j in range(x-2):\n",
        "    if i==0 or i==(x-1) or j==x//2-1:\n",
        "      if j > x//2-1 and i==x-1:\n",
        "        print(\" \",end=\" \")\n",
        "      else:\n",
        "        print(\"*\",end=\" \")\n",
        "    else:\n",
        "       print(\" \",end=\" \")\n",
        "  print()"
      ],
      "metadata": {
        "colab": {
          "base_uri": "https://localhost:8080/"
        },
        "id": "2itDrTCEe1UK",
        "outputId": "08c27e9d-bbd7-4f5c-9dfc-6db86b5593b0"
      },
      "execution_count": null,
      "outputs": [
        {
          "output_type": "stream",
          "name": "stdout",
          "text": [
            "9\n",
            "* * * * * * * \n",
            "      *       \n",
            "      *       \n",
            "      *       \n",
            "      *       \n",
            "      *       \n",
            "      *       \n",
            "      *       \n",
            "* * * *       \n"
          ]
        }
      ]
    },
    {
      "cell_type": "code",
      "source": [
        "\n",
        "x=int(input())\n",
        "for i in range(x):\n",
        "  for j in range(x):\n",
        "    if j==0 or (i+j==x-4) or (i-j==x-6):\n",
        "      print(\"*\",end=\" \")\n",
        "    else:\n",
        "      print(\" \",end=\" \")\n",
        "  print()"
      ],
      "metadata": {
        "colab": {
          "base_uri": "https://localhost:8080/"
        },
        "id": "D7nky9hCg_g8",
        "outputId": "43ffb28e-ac17-4ff3-f2ec-b33b257ed973"
      },
      "execution_count": null,
      "outputs": [
        {
          "output_type": "stream",
          "name": "stdout",
          "text": [
            "10\n",
            "*           *       \n",
            "*         *         \n",
            "*       *           \n",
            "*     *             \n",
            "*   *               \n",
            "* *                 \n",
            "*   *               \n",
            "*     *             \n",
            "*       *           \n",
            "*         *         \n"
          ]
        }
      ]
    },
    {
      "cell_type": "code",
      "source": [
        "x=int(input())\n",
        "for i in range(x):\n",
        "  for j in range(x):\n",
        "    if j==0 or i==(x-1):\n",
        "      print(\"*\",end=\" \")\n",
        "    else:\n",
        "      print(\" \",end=\" \")\n",
        "  print()"
      ],
      "metadata": {
        "colab": {
          "base_uri": "https://localhost:8080/"
        },
        "id": "CRUZqk1shauA",
        "outputId": "d7e57e90-21c4-4996-967c-32f0e9365c4a"
      },
      "execution_count": null,
      "outputs": [
        {
          "output_type": "stream",
          "name": "stdout",
          "text": [
            "9\n",
            "*                 \n",
            "*                 \n",
            "*                 \n",
            "*                 \n",
            "*                 \n",
            "*                 \n",
            "*                 \n",
            "*                 \n",
            "* * * * * * * * * \n"
          ]
        }
      ]
    },
    {
      "cell_type": "code",
      "source": [
        "x=int(input())\n",
        "for i in range(x):\n",
        "  for j in range(x):\n",
        "    if j==0 or j==(x-1) or (i==j < x//2 ) or ((i+j==x-1)and i<x//2+1):\n",
        "      print(\"*\",end=\" \")\n",
        "    else:\n",
        "      print(\" \",end=\" \")\n",
        "  print()"
      ],
      "metadata": {
        "colab": {
          "base_uri": "https://localhost:8080/"
        },
        "id": "f9krR7wdjxBy",
        "outputId": "1fef6847-6222-42c5-f207-48ab95ccc7df"
      },
      "execution_count": null,
      "outputs": [
        {
          "output_type": "stream",
          "name": "stdout",
          "text": [
            "*               * \n",
            "* *           * * \n",
            "*   *       *   * \n",
            "*     *   *     * \n",
            "*       *       * \n",
            "*               * \n",
            "*               * \n",
            "*               * \n",
            "*               * \n"
          ]
        }
      ]
    },
    {
      "cell_type": "code",
      "source": [
        "x=int(input())\n",
        "for i in range(x):\n",
        "  for j in range(x):\n",
        "    if j==0 or j==(x-1) or i==j:\n",
        "      print(\"*\",end=\" \")\n",
        "    else:\n",
        "      print(\" \",end=\" \")\n",
        "  print()"
      ],
      "metadata": {
        "id": "__DaDqiVh9xC",
        "colab": {
          "base_uri": "https://localhost:8080/"
        },
        "outputId": "7aeacd67-1b78-4937-df1a-7529c11f8457"
      },
      "execution_count": null,
      "outputs": [
        {
          "output_type": "stream",
          "name": "stdout",
          "text": [
            "9\n",
            "*               * \n",
            "* *             * \n",
            "*   *           * \n",
            "*     *         * \n",
            "*       *       * \n",
            "*         *     * \n",
            "*           *   * \n",
            "*             * * \n",
            "*               * \n"
          ]
        }
      ]
    },
    {
      "cell_type": "code",
      "source": [
        "x=int(input())\n",
        "for i in range(x):\n",
        "  for j in range(x-2):\n",
        "    if i==0 or i==(x-1) or j==0 or j==x-3:\n",
        "      if (i==0 or i==x-1) and (j==0  or j==x-3):\n",
        "        print(\" \",end=\" \")\n",
        "      else:\n",
        "        print(\"*\",end=\" \")\n",
        "    else:\n",
        "       print(\" \",end=\" \")\n",
        "  print()"
      ],
      "metadata": {
        "colab": {
          "base_uri": "https://localhost:8080/"
        },
        "id": "brnlLHK-iBx_",
        "outputId": "10fe1930-e1aa-4085-99fe-1a42737eafcd"
      },
      "execution_count": null,
      "outputs": [
        {
          "output_type": "stream",
          "name": "stdout",
          "text": [
            "9\n",
            "  * * * * *   \n",
            "*           * \n",
            "*           * \n",
            "*           * \n",
            "*           * \n",
            "*           * \n",
            "*           * \n",
            "*           * \n",
            "  * * * * *   \n"
          ]
        }
      ]
    },
    {
      "cell_type": "code",
      "source": [
        "x=int(input())\n",
        "for i in range(x):\n",
        "  for j in range(x-2):\n",
        "    if i==0 or i==(x//2) or j==0 or j==x-3:\n",
        "      if (i > x//2 and j==x-3) or (i==0 and j==x-3) or (i==x//2 and j==x-3 ):\n",
        "        print(\" \",end=\" \")\n",
        "      else:\n",
        "        print(\"*\",end=\" \")\n",
        "    else:\n",
        "       print(\" \",end=\" \")\n",
        "  print()"
      ],
      "metadata": {
        "colab": {
          "base_uri": "https://localhost:8080/"
        },
        "id": "kjQ5Sk6AjzQK",
        "outputId": "89c40185-7039-4b95-80f9-203883f30f94"
      },
      "execution_count": null,
      "outputs": [
        {
          "output_type": "stream",
          "name": "stdout",
          "text": [
            "9\n",
            "* * * * * *   \n",
            "*           * \n",
            "*           * \n",
            "*           * \n",
            "* * * * * *   \n",
            "*             \n",
            "*             \n",
            "*             \n",
            "*             \n"
          ]
        }
      ]
    },
    {
      "cell_type": "code",
      "source": [
        "x=9\n",
        "for i in range(x):\n",
        "  for j in range(x+1):\n",
        "    if i==0 or i==(x-1) or j==0 or j==x or i==j:\n",
        "      if (i==0 or i==x-1) and (j==0  or j==x-1):\n",
        "        print(\" \",end=\" \")\n",
        "      else:\n",
        "        print(\"*\",end=\" \")\n",
        "    else:\n",
        "       print(\" \",end=\" \")\n",
        "  print()"
      ],
      "metadata": {
        "colab": {
          "base_uri": "https://localhost:8080/"
        },
        "id": "muDvjBnpmy9M",
        "outputId": "275ca0ac-3676-4581-ed65-ed85e3e07d55"
      },
      "execution_count": null,
      "outputs": [
        {
          "output_type": "stream",
          "name": "stdout",
          "text": [
            "  * * * * * * *   * \n",
            "* *               * \n",
            "*   *             * \n",
            "*     *           * \n",
            "*       *         * \n",
            "*         *       * \n",
            "*           *     * \n",
            "*             *   * \n",
            "  * * * * * * *   * \n"
          ]
        }
      ]
    },
    {
      "cell_type": "code",
      "source": [
        "x=int(input())\n",
        "for i in range(x):\n",
        "  for j in range(x-2):\n",
        "    if i==0 or i==(x//2) or j==0 or j==x-3 or (i-j)==x//2:\n",
        "      if (i > x//2 and j==x-3) or (i==0 and j==x-3) or (i==x//2 and j==x-3 ):\n",
        "        print(\" \",end=\" \")\n",
        "      else:\n",
        "        print(\"*\",end=\" \")\n",
        "    else:\n",
        "       print(\" \",end=\" \")\n",
        "  print()"
      ],
      "metadata": {
        "colab": {
          "base_uri": "https://localhost:8080/"
        },
        "id": "c-4f6zKIpXj-",
        "outputId": "a6a276e0-a971-46d9-8a7e-8509be087af6"
      },
      "execution_count": null,
      "outputs": [
        {
          "output_type": "stream",
          "name": "stdout",
          "text": [
            "9\n",
            "* * * * * *   \n",
            "*           * \n",
            "*           * \n",
            "*           * \n",
            "* * * * * *   \n",
            "* *           \n",
            "*   *         \n",
            "*     *       \n",
            "*       *     \n"
          ]
        }
      ]
    },
    {
      "cell_type": "code",
      "source": [
        "x=int(input())\n",
        "for i in range(x):\n",
        "  for j in range(x-2):\n",
        "    if i==0 or i==(x-1) or i==x//2 or j==0 or j==x-3:\n",
        "      if (i > x//2 and j==0) or  (i < x//2 and j==x-3):\n",
        "        print(\" \",end=\" \")\n",
        "      else:\n",
        "        print(\"*\",end=\" \")\n",
        "    else:\n",
        "       print(\" \",end=\" \")\n",
        "  print()"
      ],
      "metadata": {
        "colab": {
          "base_uri": "https://localhost:8080/"
        },
        "id": "7rbGksIZlFff",
        "outputId": "3288ea91-3e04-4e26-f528-a9b7f58b937e"
      },
      "execution_count": null,
      "outputs": [
        {
          "output_type": "stream",
          "name": "stdout",
          "text": [
            "9\n",
            "* * * * * *   \n",
            "*             \n",
            "*             \n",
            "*             \n",
            "* * * * * * * \n",
            "            * \n",
            "            * \n",
            "            * \n",
            "  * * * * * * \n"
          ]
        }
      ]
    },
    {
      "cell_type": "code",
      "source": [
        "x=int(input())\n",
        "for i in range(x):\n",
        "  for j in range(x):\n",
        "    if j==x//2 or i==0:\n",
        "      print(\"*\",end=\" \")\n",
        "    else:\n",
        "      print(\" \",end=\" \")\n",
        "  print()"
      ],
      "metadata": {
        "colab": {
          "base_uri": "https://localhost:8080/"
        },
        "id": "fT3G7TQJq6Ft",
        "outputId": "b100b158-86c2-4953-e7bb-512533472f55"
      },
      "execution_count": null,
      "outputs": [
        {
          "output_type": "stream",
          "name": "stdout",
          "text": [
            "9\n",
            "* * * * * * * * * \n",
            "        *         \n",
            "        *         \n",
            "        *         \n",
            "        *         \n",
            "        *         \n",
            "        *         \n",
            "        *         \n",
            "        *         \n"
          ]
        }
      ]
    },
    {
      "cell_type": "code",
      "source": [
        "x=int(input())\n",
        "for i in range(x):\n",
        "  for j in range(x-1):\n",
        "    if i==x-1 or j==0 or j==x-2:\n",
        "      if(i==x-1 and j==0) or (i==x-1 and j==x-2):\n",
        "        print(\" \",end=\" \")\n",
        "      else:\n",
        "        print(\"*\",end=\" \")\n",
        "    else:\n",
        "       print(\" \",end=\" \")\n",
        "  print()\n"
      ],
      "metadata": {
        "colab": {
          "base_uri": "https://localhost:8080/"
        },
        "id": "UWOw9uRJrSt5",
        "outputId": "87d90d90-51ef-4f82-df46-686216bf038f"
      },
      "execution_count": null,
      "outputs": [
        {
          "output_type": "stream",
          "name": "stdout",
          "text": [
            "9\n",
            "*             * \n",
            "*             * \n",
            "*             * \n",
            "*             * \n",
            "*             * \n",
            "*             * \n",
            "*             * \n",
            "*             * \n",
            "  * * * * * *   \n"
          ]
        }
      ]
    },
    {
      "cell_type": "code",
      "source": [
        "x=int(input())\n",
        "for i in range(x):\n",
        "  for j in range(x):\n",
        "    if (j==0 and i<x//2) or (j==x-1 and i<x//2) or (i-j==x//2) or i+j==x+3 :\n",
        "        print(\"*\",end=\" \")\n",
        "    else:\n",
        "       print(\" \",end=\" \")\n",
        "  print()\n"
      ],
      "metadata": {
        "colab": {
          "base_uri": "https://localhost:8080/"
        },
        "id": "SMzgBlBrqIqJ",
        "outputId": "b1b71a5b-ad69-40c8-d0ec-96255fd21adb"
      },
      "execution_count": null,
      "outputs": [
        {
          "output_type": "stream",
          "name": "stdout",
          "text": [
            "9\n",
            "*               * \n",
            "*               * \n",
            "*               * \n",
            "*               * \n",
            "*               * \n",
            "  *           *   \n",
            "    *       *     \n",
            "      *   *       \n",
            "        *         \n"
          ]
        }
      ]
    },
    {
      "cell_type": "code",
      "source": [
        "x=9\n",
        "for i in range(x):\n",
        "  for j in range(x):\n",
        "    if j==x-1 or j==0 or (i==j > x//2) or ((i+j==x-1)and i>x//2-1):\n",
        "        print(\"*\",end=\" \")\n",
        "    else:\n",
        "       print(\" \",end=\" \")\n",
        "  print()\n"
      ],
      "metadata": {
        "colab": {
          "base_uri": "https://localhost:8080/"
        },
        "id": "oy5CsNpaqJj-",
        "outputId": "25db1fb8-8fc4-4b90-82c6-c7a778217884"
      },
      "execution_count": null,
      "outputs": [
        {
          "output_type": "stream",
          "name": "stdout",
          "text": [
            "*               * \n",
            "*               * \n",
            "*               * \n",
            "*               * \n",
            "*       *       * \n",
            "*     *   *     * \n",
            "*   *       *   * \n",
            "* *           * * \n",
            "*               * \n"
          ]
        }
      ]
    },
    {
      "cell_type": "code",
      "source": [
        "x=int(input())\n",
        "for i in range(x):\n",
        "  for j in range(x):\n",
        "    if i==j or i+j==x-1:\n",
        "      print(\"*\",end=\" \")\n",
        "    else:\n",
        "      print(\" \",end=\" \")\n",
        "  print()"
      ],
      "metadata": {
        "colab": {
          "base_uri": "https://localhost:8080/"
        },
        "id": "nDnxUO64_0RY",
        "outputId": "16496a70-865d-413b-9ad0-126de445eb5b"
      },
      "execution_count": null,
      "outputs": [
        {
          "output_type": "stream",
          "name": "stdout",
          "text": [
            "9\n",
            "*               * \n",
            "  *           *   \n",
            "    *       *     \n",
            "      *   *       \n",
            "        *         \n",
            "      *   *       \n",
            "    *       *     \n",
            "  *           *   \n",
            "*               * \n"
          ]
        }
      ]
    },
    {
      "cell_type": "code",
      "source": [
        "x=int(input())\n",
        "for i in range(x):\n",
        "  for j in range(x):\n",
        "    if i==j < x//2 or i+j==x-1:\n",
        "      print(\"*\",end=\" \")\n",
        "    else:\n",
        "      print(\" \",end=\" \")\n",
        "  print( )"
      ],
      "metadata": {
        "colab": {
          "base_uri": "https://localhost:8080/"
        },
        "id": "G5642AKgPKAs",
        "outputId": "6b794f8c-ebfa-4824-f5ff-d74f8c74192c"
      },
      "execution_count": null,
      "outputs": [
        {
          "output_type": "stream",
          "name": "stdout",
          "text": [
            "9\n",
            "*               * \n",
            "  *           *   \n",
            "    *       *     \n",
            "      *   *       \n",
            "        *         \n",
            "      *           \n",
            "    *             \n",
            "  *               \n",
            "*                 \n"
          ]
        }
      ]
    },
    {
      "cell_type": "code",
      "source": [
        "x=int(input())\n",
        "for i in range(x):\n",
        "  for j in range(x):\n",
        "    if i==0 or i==x-1 or i+j==x-1:\n",
        "      print(\"*\",end=\" \")\n",
        "    else:\n",
        "      print(\" \",end=\" \")\n",
        "  print()"
      ],
      "metadata": {
        "colab": {
          "base_uri": "https://localhost:8080/"
        },
        "id": "4XOKFYap_CWw",
        "outputId": "a23db303-f0c8-4d2c-8dd6-35a775fa62b9"
      },
      "execution_count": null,
      "outputs": [
        {
          "output_type": "stream",
          "name": "stdout",
          "text": [
            "7\n",
            "* * * * * * * \n",
            "          *   \n",
            "        *     \n",
            "      *       \n",
            "    *         \n",
            "  *           \n",
            "* * * * * * * \n"
          ]
        }
      ]
    }
  ]
}